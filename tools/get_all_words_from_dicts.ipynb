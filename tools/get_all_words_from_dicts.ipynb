{
 "cells": [
  {
   "cell_type": "code",
   "execution_count": 9,
   "metadata": {},
   "outputs": [],
   "source": [
    "import glob\n",
    "from tqdm import tqdm\n",
    "\n",
    "from collections import defaultdict"
   ]
  },
  {
   "cell_type": "code",
   "execution_count": 7,
   "metadata": {},
   "outputs": [],
   "source": [
    "nl_dicts = glob.glob(\"./dicts/nl*/*.txt\")"
   ]
  },
  {
   "cell_type": "code",
   "execution_count": 13,
   "metadata": {},
   "outputs": [],
   "source": [
    "nl_dict_all = defaultdict(list)\n",
    "for dict_path in nl_dicts:\n",
    "    with open(dict_path, \"r\", encoding=\"UTF-8\") as f:\n",
    "        dict_entries = [w.split(\"\\t\") for w in f.read().split(\"\\n\") if w != \"\"]\n",
    "    \n",
    "    for nl_word, en_meaning in dict_entries:\n",
    "            nl_dict_all[nl_word.strip()].append(en_meaning.strip())\n",
    "# nl_dict_all    "
   ]
  },
  {
   "cell_type": "code",
   "execution_count": 14,
   "metadata": {},
   "outputs": [
    {
     "data": {
      "text/plain": [
       "1197"
      ]
     },
     "execution_count": 14,
     "metadata": {},
     "output_type": "execute_result"
    }
   ],
   "source": [
    "len(nl_dict_all)"
   ]
  },
  {
   "cell_type": "code",
   "execution_count": 15,
   "metadata": {},
   "outputs": [],
   "source": [
    "with open(\"nl_all_1.txt\", \"w\", encoding=\"UTF-8\") as f:\n",
    "    for nl_word, en_meanings in nl_dict_all.items():\n",
    "        f.write(nl_word + \"\\t\" + str(en_meanings) + \"\\n\")\n",
    "    "
   ]
  }
 ],
 "metadata": {
  "kernelspec": {
   "display_name": "Python 3",
   "language": "python",
   "name": "python3"
  },
  "language_info": {
   "codemirror_mode": {
    "name": "ipython",
    "version": 3
   },
   "file_extension": ".py",
   "mimetype": "text/x-python",
   "name": "python",
   "nbconvert_exporter": "python",
   "pygments_lexer": "ipython3",
   "version": "3.7.0"
  }
 },
 "nbformat": 4,
 "nbformat_minor": 2
}
