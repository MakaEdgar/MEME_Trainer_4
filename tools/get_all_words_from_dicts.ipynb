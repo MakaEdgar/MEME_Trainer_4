{
 "cells": [
  {
   "cell_type": "code",
   "execution_count": 1,
   "metadata": {},
   "outputs": [],
   "source": [
    "import glob\n",
    "from tqdm import tqdm\n",
    "\n",
    "from collections import defaultdict, Counter"
   ]
  },
  {
   "cell_type": "code",
   "execution_count": 2,
   "metadata": {},
   "outputs": [
    {
     "data": {
      "text/plain": [
       "['../dicts/nl_a1_1/nl_a1_1.txt',\n",
       " '../dicts/nl_a1_10/nl_a1_10.txt',\n",
       " '../dicts/nl_a1_11/nl_a1_11.txt',\n",
       " '../dicts/nl_a1_12/nl_a1_12.txt',\n",
       " '../dicts/nl_a1_13/nl_a1_13.txt',\n",
       " '../dicts/nl_a1_14/nl_a1_14.txt',\n",
       " '../dicts/nl_a1_15/nl_a1_15.txt',\n",
       " '../dicts/nl_a1_16/nl_a1_16.txt',\n",
       " '../dicts/nl_a1_17/nl_a1_17.txt',\n",
       " '../dicts/nl_a1_18/nl_a1_18.txt',\n",
       " '../dicts/nl_a1_19/nl_a1_19.txt',\n",
       " '../dicts/nl_a1_2/nl_a1_2.txt',\n",
       " '../dicts/nl_a1_3/nl_a1_3.txt',\n",
       " '../dicts/nl_a1_4/nl_a1_4.txt',\n",
       " '../dicts/nl_a1_5/nl_a1_5.txt',\n",
       " '../dicts/nl_a1_6/nl_a1_6.txt',\n",
       " '../dicts/nl_a1_7/nl_a1_7.txt',\n",
       " '../dicts/nl_a1_8/nl_a1_8.txt',\n",
       " '../dicts/nl_a1_9/nl_a1_9.txt',\n",
       " '../dicts/nl_a1_errs1/nl_a1_errs1.txt',\n",
       " '../dicts/nl_a1_errs2/nl_a1_errs2.txt',\n",
       " '../dicts/nl_a1_lgd_1/nl_a1_lgd_1.txt',\n",
       " '../dicts/nl_a1_lgd_10/nl_a1_lgd_10.txt',\n",
       " '../dicts/nl_a1_lgd_2/nl_a1_lgd_2.txt',\n",
       " '../dicts/nl_a1_lgd_3/nl_a1_lgd_3.txt',\n",
       " '../dicts/nl_a1_lgd_4/nl_a1_lgd_4.txt',\n",
       " '../dicts/nl_a1_lgd_5/nl_a1_lgd_5.txt',\n",
       " '../dicts/nl_a1_lgd_6/nl_a1_lgd_6.txt',\n",
       " '../dicts/nl_a1_lgd_7/nl_a1_lgd_7.txt',\n",
       " '../dicts/nl_a1_lgd_8/nl_a1_lgd_8.txt',\n",
       " '../dicts/nl_a1_lgd_9/nl_a1_lgd_9.txt',\n",
       " '../dicts/nl_a2_20/nl_a2_20.txt',\n",
       " '../dicts/nl_a2_21/nl_a2_21.txt',\n",
       " '../dicts/nl_a2_22/nl_a2_22.txt',\n",
       " '../dicts/nl_a2_23/nl_a2_23.txt',\n",
       " '../dicts/nl_a2_24/nl_a2_24.txt',\n",
       " '../dicts/nl_a2_25/nl_a2_25.txt',\n",
       " '../dicts/nl_a2_26/nl_a2_26.txt',\n",
       " '../dicts/nl_pb2_1/nl_pb2_1.txt',\n",
       " '../dicts/nl_vb/nl_vb.txt']"
      ]
     },
     "execution_count": 2,
     "metadata": {},
     "output_type": "execute_result"
    }
   ],
   "source": [
    "nl_dict_files = glob.glob(\"../dicts/nl*/*.txt\")\n",
    "nl_dict_files"
   ]
  },
  {
   "cell_type": "code",
   "execution_count": 3,
   "metadata": {},
   "outputs": [],
   "source": [
    "nl_dict_files = [\n",
    " '../dicts/nl_a1_1/nl_a1_1.txt',\n",
    " '../dicts/nl_a1_10/nl_a1_10.txt',\n",
    " '../dicts/nl_a1_11/nl_a1_11.txt',\n",
    " '../dicts/nl_a1_12/nl_a1_12.txt',\n",
    " '../dicts/nl_a1_13/nl_a1_13.txt',\n",
    " '../dicts/nl_a1_14/nl_a1_14.txt',\n",
    " '../dicts/nl_a1_15/nl_a1_15.txt',\n",
    " '../dicts/nl_a1_16/nl_a1_16.txt',\n",
    " '../dicts/nl_a1_17/nl_a1_17.txt',\n",
    " '../dicts/nl_a1_18/nl_a1_18.txt',\n",
    " '../dicts/nl_a1_19/nl_a1_19.txt',\n",
    " '../dicts/nl_a1_2/nl_a1_2.txt',\n",
    " '../dicts/nl_a1_3/nl_a1_3.txt',\n",
    " '../dicts/nl_a1_4/nl_a1_4.txt',\n",
    " '../dicts/nl_a1_5/nl_a1_5.txt',\n",
    " '../dicts/nl_a1_6/nl_a1_6.txt',\n",
    " '../dicts/nl_a1_7/nl_a1_7.txt',\n",
    " '../dicts/nl_a1_8/nl_a1_8.txt',\n",
    " '../dicts/nl_a1_9/nl_a1_9.txt',\n",
    " '../dicts/nl_a1_errs1/nl_a1_errs1.txt',\n",
    " '../dicts/nl_a1_errs2/nl_a1_errs2.txt',\n",
    " '../dicts/nl_a1_lgd_1/nl_a1_lgd_1.txt',\n",
    "#  '../dicts/nl_a1_lgd_11-12/nl_a1_lgd_11-12.txt',\n",
    " '../dicts/nl_a1_lgd_2/nl_a1_lgd_2.txt',\n",
    " '../dicts/nl_a1_lgd_3/nl_a1_lgd_3.txt',\n",
    " '../dicts/nl_a1_lgd_4/nl_a1_lgd_4.txt',\n",
    " '../dicts/nl_a1_lgd_5/nl_a1_lgd_5.txt',\n",
    " '../dicts/nl_a1_lgd_6/nl_a1_lgd_6.txt',\n",
    " '../dicts/nl_a1_lgd_7/nl_a1_lgd_7.txt',\n",
    " '../dicts/nl_a1_lgd_8/nl_a1_lgd_8.txt',\n",
    " '../dicts/nl_a2_20/nl_a2_20.txt',\n",
    " '../dicts/nl_a2_21/nl_a2_21.txt',\n",
    " '../dicts/nl_a2_22/nl_a2_22.txt',\n",
    " '../dicts/nl_a2_23/nl_a2_23.txt',\n",
    " '../dicts/nl_a2_24/nl_a2_24.txt',\n",
    " '../dicts/nl_a2_25/nl_a2_25.txt',\n",
    " '../dicts/nl_a2_26/nl_a2_26.txt',\n",
    " '../dicts/nl_pb2_1/nl_pb2_1.txt',\n",
    "#  '../dicts/nl_vb/nl_vb.txt'\n",
    "]"
   ]
  },
  {
   "cell_type": "code",
   "execution_count": 4,
   "metadata": {},
   "outputs": [],
   "source": [
    "nl_dict_all = defaultdict(Counter)\n",
    "for dict_path in nl_dict_files:\n",
    "    with open(dict_path, \"r\", encoding=\"UTF-8\") as f:\n",
    "        dict_entries = [w.split(\"\\t\") for w in f.read().split(\"\\n\") if w != \"\"]\n",
    "    \n",
    "    for nl_word, en_meaning in dict_entries:\n",
    "            nl_dict_all[nl_word.strip()][en_meaning.strip()] += 1\n",
    "nl_dict_all = dict(sorted(nl_dict_all.items()))\n",
    "# nl_dict_all"
   ]
  },
  {
   "cell_type": "code",
   "execution_count": 5,
   "metadata": {},
   "outputs": [
    {
     "data": {
      "text/plain": [
       "2059"
      ]
     },
     "execution_count": 5,
     "metadata": {},
     "output_type": "execute_result"
    }
   ],
   "source": [
    "len(nl_dict_all)"
   ]
  },
  {
   "cell_type": "code",
   "execution_count": 15,
   "metadata": {},
   "outputs": [
    {
     "data": {
      "text/plain": [
       "Counter({'to stop': 1})"
      ]
     },
     "execution_count": 15,
     "metadata": {},
     "output_type": "execute_result"
    }
   ],
   "source": [
    "nl_dict_all[\"stoppen\"]"
   ]
  },
  {
   "cell_type": "code",
   "execution_count": 16,
   "metadata": {},
   "outputs": [
    {
     "data": {
      "text/plain": [
       "Counter({'to need (used in negations)': 1,\n",
       "         'to need to do smth. (not required)': 1})"
      ]
     },
     "execution_count": 16,
     "metadata": {},
     "output_type": "execute_result"
    }
   ],
   "source": [
    "nl_dict_all[\"hoeven\"]"
   ]
  },
  {
   "cell_type": "code",
   "execution_count": 53,
   "metadata": {},
   "outputs": [],
   "source": [
    "with open(\"nl_all_words.txt\", \"w\", encoding=\"UTF-8\") as f:\n",
    "    for nl_word, en_meanings in nl_dict_all.items():\n",
    "        f.write(nl_word + \"\\t\" + str(en_meanings) + \"\\n\")\n",
    "    "
   ]
  },
  {
   "cell_type": "code",
   "execution_count": null,
   "metadata": {},
   "outputs": [],
   "source": []
  },
  {
   "cell_type": "code",
   "execution_count": null,
   "metadata": {},
   "outputs": [],
   "source": []
  }
 ],
 "metadata": {
  "kernelspec": {
   "display_name": "Python 3 (ipykernel)",
   "language": "python",
   "name": "python3"
  },
  "language_info": {
   "codemirror_mode": {
    "name": "ipython",
    "version": 3
   },
   "file_extension": ".py",
   "mimetype": "text/x-python",
   "name": "python",
   "nbconvert_exporter": "python",
   "pygments_lexer": "ipython3",
   "version": "3.10.6"
  }
 },
 "nbformat": 4,
 "nbformat_minor": 2
}
