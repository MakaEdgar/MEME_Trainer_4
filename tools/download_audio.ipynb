{
 "cells": [
  {
   "cell_type": "code",
   "execution_count": 12,
   "metadata": {},
   "outputs": [],
   "source": [
    "import os\n",
    "import time\n",
    "from gtts import gTTS\n",
    "import tqdm\n",
    "\n",
    "def get_audiofile_name(word):\n",
    "    symbols_to_replace = \" .,?!\\\"\\'\"\n",
    "    audiofile_name = \"\"\n",
    "    for w in word:\n",
    "        audiofile_name = audiofile_name + (w if w not in symbols_to_replace else \"_\")\n",
    "    return audiofile_name + \".mp3\"\n",
    "\n",
    "# portugese = pt, czech = cs\n",
    "def load_audio(word, audiopath=\"./\", slow=True, lang_key=\"pt\"):\n",
    "    myobj = gTTS(text=word, lang=lang_key, slow=slow)\n",
    "    \n",
    "    filename = get_audiofile_name(word)\n",
    "    myobj.save(audiopath + filename)\n",
    "\n",
    "    time.sleep(1)\n",
    "#         print(\"|\",end=\"\")"
   ]
  },
  {
   "cell_type": "markdown",
   "metadata": {},
   "source": [
    "## Load dict in txt format "
   ]
  },
  {
   "cell_type": "code",
   "execution_count": 13,
   "metadata": {},
   "outputs": [
    {
     "data": {
      "text/plain": [
       "['pt_a1_1']"
      ]
     },
     "execution_count": 13,
     "metadata": {},
     "output_type": "execute_result"
    }
   ],
   "source": [
    "# For dicts in txt files\n",
    "\n",
    "sourcepath = \"new_dicts/\"\n",
    "\n",
    "dicts = ! ls $sourcepath\n",
    "dicts = [x[:-4] for x in dicts if x.find(\".txt\") != -1]\n",
    "dicts"
   ]
  },
  {
   "cell_type": "code",
   "execution_count": 14,
   "metadata": {
    "scrolled": false
   },
   "outputs": [
    {
     "name": "stdout",
     "output_type": "stream",
     "text": [
      "Start to download audio for pt_a1_1:\tread 97 words\n",
      "Loading: "
     ]
    },
    {
     "name": "stderr",
     "output_type": "stream",
     "text": [
      "100%|██████████████████████████████████████████████████████████████████████████████████| 97/97 [02:27<00:00,  1.55s/it]\n"
     ]
    },
    {
     "name": "stdout",
     "output_type": "stream",
     "text": [
      "\tSuccess!\n"
     ]
    }
   ],
   "source": [
    "for dictname in dicts:\n",
    "    print(\"Start to download audio for\", dictname, end=\":\\t\")\n",
    "    \n",
    "    with open(sourcepath + dictname + \".txt\", \"r\", encoding=\"UTF-8\") as f:\n",
    "        words = [w.split(\"\\t\")[0].strip() for w in f.read().split(\"\\n\") if w != \"\"]\n",
    "        print(\"read\", len(words), \"words\")\n",
    "\n",
    "    dictpath = sourcepath + dictname + \"/\"\n",
    "    audiopath = dictpath + dictname + \"_audio/\"\n",
    "    os.mkdir(dictpath)\n",
    "    os.mkdir(audiopath)\n",
    "    \n",
    "    print(\"Loading: \", end=\"\")\n",
    "    for word in tqdm.tqdm(words):\n",
    "        load_audio(word, audiopath)\n",
    "    print(\"\\tSuccess!\")"
   ]
  },
  {
   "cell_type": "code",
   "execution_count": null,
   "metadata": {},
   "outputs": [],
   "source": []
  },
  {
   "cell_type": "markdown",
   "metadata": {},
   "source": [
    "### Directly from wordlist"
   ]
  },
  {
   "cell_type": "code",
   "execution_count": 6,
   "metadata": {},
   "outputs": [
    {
     "name": "stdout",
     "output_type": "stream",
     "text": [
      "|"
     ]
    }
   ],
   "source": [
    "# # For wordlist:\n",
    "\n",
    "# words = \"\"\"\n",
    "# Co znamená ...\n",
    "# \"\"\".split(\"\\n\")\n",
    "# words = [x for x in words if x != \"\"]\n",
    "\n",
    "# audiopath = \"./\"\n",
    "\n",
    "# for word in words:\n",
    "#     load_audio(word, audiopath)"
   ]
  },
  {
   "cell_type": "code",
   "execution_count": null,
   "metadata": {},
   "outputs": [],
   "source": []
  }
 ],
 "metadata": {
  "kernelspec": {
   "display_name": "Python 3",
   "language": "python",
   "name": "python3"
  },
  "language_info": {
   "codemirror_mode": {
    "name": "ipython",
    "version": 3
   },
   "file_extension": ".py",
   "mimetype": "text/x-python",
   "name": "python",
   "nbconvert_exporter": "python",
   "pygments_lexer": "ipython3",
   "version": "3.7.0"
  }
 },
 "nbformat": 4,
 "nbformat_minor": 2
}
