{
 "cells": [
  {
   "cell_type": "code",
   "execution_count": 20,
   "metadata": {},
   "outputs": [],
   "source": [
    "import os\n",
    "import time\n",
    "import requests\n",
    "\n",
    "def get_audiofile_name(word):\n",
    "    symbols_to_replace = \" .,?!\\\"\\'\"\n",
    "    audiofile_name = \"\"\n",
    "    for w in word:\n",
    "        audiofile_name = audiofile_name + (w if w not in symbols_to_replace else \"_\")\n",
    "    return audiofile_name + \".mp3\"\n",
    "\n",
    "def load_audio(word, audiopath=\"./\", speed=\"0.5\"):\n",
    "        url = \"https://google-translate-proxy.herokuapp.com/api/tts?language=cs&speed=\"+ speed + \"&query=\" + word\n",
    "        myfile = requests.get(url)\n",
    "        filename = get_audiofile_name(word)\n",
    "        with open(audiopath + filename, 'wb') as f:\n",
    "            f.write(myfile.content)\n",
    "        time.sleep(2)\n",
    "        print(\"|\",end=\"\")"
   ]
  },
  {
   "cell_type": "markdown",
   "metadata": {},
   "source": [
    "## Load dict in txt format "
   ]
  },
  {
   "cell_type": "code",
   "execution_count": 21,
   "metadata": {},
   "outputs": [
    {
     "data": {
      "text/plain": [
       "['cz_a1_ed3', 'cz_a1_ed4']"
      ]
     },
     "execution_count": 21,
     "metadata": {},
     "output_type": "execute_result"
    }
   ],
   "source": [
    "# For dicts in txt files\n",
    "\n",
    "sourcepath = \"new_dicts/\"\n",
    "\n",
    "dicts = ! ls $sourcepath\n",
    "dicts = [x[:-4] for x in dicts if x.find(\".txt\") != -1]\n",
    "dicts"
   ]
  },
  {
   "cell_type": "code",
   "execution_count": 22,
   "metadata": {
    "scrolled": false
   },
   "outputs": [
    {
     "name": "stdout",
     "output_type": "stream",
     "text": [
      "Start to download audio for cz_a1_ed3:\tread 100 words\n",
      "Loading: ||||||||||||||||||||||||||||||||||||||||||||||||||||||||||||||||||||||||||||||||||||||||||||||||||||\tSuccess!\n",
      "Start to download audio for cz_a1_ed4:\tread 100 words\n",
      "Loading: ||||||||||||||||||||||||||||||||||||||||||||||||||||||||||||||||||||||||||||||||||||||||||||||||||||\tSuccess!\n"
     ]
    }
   ],
   "source": [
    "for dictname in dicts:\n",
    "    print(\"Start to download audio for\", dictname, end=\":\\t\")\n",
    "    \n",
    "    with open(sourcepath + dictname + \".txt\", \"r\", encoding=\"UTF-8\") as f:\n",
    "        words = [w.split(\"\\t\")[0].strip() for w in f.read().split(\"\\n\") if w != \"\"]\n",
    "        print(\"read\", len(words), \"words\")\n",
    "\n",
    "    dictpath = sourcepath + dictname + \"/\"\n",
    "    audiopath = dictpath + dictname + \"_audio/\"\n",
    "    os.mkdir(dictpath)\n",
    "    os.mkdir(audiopath)\n",
    "    \n",
    "    print(\"Loading: \", end=\"\")\n",
    "    for word in words:\n",
    "        load_audio(word, audiopath)\n",
    "    print(\"\\tSuccess!\")"
   ]
  },
  {
   "cell_type": "code",
   "execution_count": null,
   "metadata": {},
   "outputs": [],
   "source": []
  },
  {
   "cell_type": "markdown",
   "metadata": {},
   "source": [
    "### Directly from wordlist"
   ]
  },
  {
   "cell_type": "code",
   "execution_count": 13,
   "metadata": {},
   "outputs": [],
   "source": [
    "# For wordlist:\n",
    "\n",
    "# words = \"\"\"\n",
    "# Odkud jsi?\n",
    "# česko\n",
    "# \"\"\".split(\"\\n\")\n",
    "# words = [x for x in words if x != \"\"]\n",
    "# \n",
    "# audiopath = \"./\"\n",
    "# \n",
    "# for word in words:\n",
    "#     url = \"https://google-translate-proxy.herokuapp.com/api/tts?language=cs&speed=\"+ speed + \"&query=\" + word\n",
    "#     myfile = requests.get(url)\n",
    "#     filename = word.replace(\" \", \"_\").replace(\",\", \"_\").replace(\".\", \"_\").replace(\"?\", \"\") + \".mp3\"\n",
    "#     with open(audiopath + filename, 'wb') as f:\n",
    "#         f.write(myfile.content)\n",
    "#     time.sleep(1)\n",
    "#     print(\"|\",end=\"\")"
   ]
  }
 ],
 "metadata": {
  "kernelspec": {
   "display_name": "Python 3 (ipykernel)",
   "language": "python",
   "name": "python3"
  },
  "language_info": {
   "codemirror_mode": {
    "name": "ipython",
    "version": 3
   },
   "file_extension": ".py",
   "mimetype": "text/x-python",
   "name": "python",
   "nbconvert_exporter": "python",
   "pygments_lexer": "ipython3",
   "version": "3.8.10"
  }
 },
 "nbformat": 4,
 "nbformat_minor": 2
}
